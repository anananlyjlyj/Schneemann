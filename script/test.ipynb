{
 "cells": [
  {
   "cell_type": "code",
   "execution_count": null,
   "metadata": {
    "Collapsed": "false"
   },
   "outputs": [],
   "source": [
    "import numpy\n",
    "import yt\n",
    "import h5py\n",
    "from scipy.ndimage.interpolation import map_coordinates\n",
    "from matplotlib.gridspec import GridSpec\n",
    "import matplotlib.pyplot as plt\n",
    "import matplotlib.image as mpimg\n",
    "\n",
    "infile = \"/u/yali/\"+folder+\"/test/output/snapshot_\"\"\n",
    "cmap_name = 'CMRmap'\n",
    "\n",
    "def customColorbar(fig, ax=None, cax=None, cmap='jet', norm=plt.Normalize, vmin=0, vmax=1, orientation='vertical'):\n",
    "    sm = plt.cm.ScalarMappable(cmap=plt.get_cmap(cmap), norm=norm(vmin=vmin, vmax=vmax))\n",
    "    # fake up the array of the scalar mappable. Ugh...\n",
    "    sm._A = []\n",
    "    if ax is None and cax is None:\n",
    "        return fig.colorbar(sm, orientation=orientation)\n",
    "    elif ax is None:\n",
    "        return fig.colorbar(sm, cax=cax, orientation=orientation)\n",
    "    elif cax is None:\n",
    "        return fig.colorbar(sm, ax=ax, orientation=orientation)\n",
    "    else:\n",
    "        return fig.colorbar(sm, ax=ax, cax=cax, orientation=orientation)\n",
    "\n",
    "def load_sim_step(step):\n",
    "\n",
    "    #read data\n",
    "    rfile = h5py.File(infile+\".ts%04i\"%step, \"r\")\n",
    "\n",
    "    npdata = numpy.array(rfile[\"level_0\"].get(\"data:datatype=0\"))\n",
    "    npdata = npdata.reshape(9,2097152)\n",
    "\n",
    "    f_HI = npdata[2,:]\n",
    "    f_HI = f_HI.reshape(128,128,128)\n",
    "\n",
    "    redshift = rfile.attrs[\"redshift\"][0]\n",
    "    HII_frac = rfile.attrs[\"HII_frac_%\"]\n",
    "\n",
    "    #remove artifact in f_HI due to RADAMESH\n",
    "    for ix in range(1,127):\n",
    "        for iy in range(1,127):\n",
    "            for iz in range(1,127):\n",
    "                if f_HI[ix,iy,iz]<1e-3 and f_HI[ix+1,iy,iz]>0.99 and f_HI[ix,iy+1,iz]>0.99 and f_HI[ix,iy,iz+1]>0.99 and f_HI[ix-1,iy,iz]>0.99 and f_HI[ix,iy-1,iz]>0.99 and f_HI[ix,iy,iz-1]>0.99:\n",
    "                    f_HI[ix,iy,iz] = 1.0\n",
    "    \n",
    "    \n",
    "    rfile.close()\n",
    "\n",
    "    return f_HI, redshift, HII_frac\n",
    "\n",
    "def set_camera(scene):\n",
    "    cam = scene.add_camera(ds, lens_type='perspective')  #camera\n",
    "    cam.resolution = [1024,1024]\n",
    "    cam.position = ds.arr([-100., -100., 100.], 'code_length')\n",
    "    normal_vector = [1., 1., -1.]\n",
    "    north_vector  = [0., 0., 1.]\n",
    "    cam.switch_orientation(normal_vector=normal_vector,north_vector=north_vector)\n",
    "    cam.set_width(2*ds.domain_width)\n",
    "\n",
    "    return cam\n",
    "\n",
    "def set_transfer_function(vol):\n",
    "\n",
    "    def linramp(vals, minval, maxval):\n",
    "        return (vals - vals.min())/(vals.max() - vals.min())\n",
    "    \n",
    "    vol.tfh.set_bounds([0.00001,1])\n",
    "    vol.tfh.set_log(True)\n",
    "    vol.tfh.set_field(r'f_HI')\n",
    "    vol.tfh.build_transfer_function()\n",
    "    vol.tfh.tf.grey_opacity = True\n",
    "    vol.tfh.tf.map_to_colormap(-5,-0.1,colormap=cmap_name, scale=0.1)#scale_func=linramp)\n",
    "    vol.tfh.tf.add_layers(10, colormap=cmap_name, mi=-5, ma=-0.1, col_bounds=[-5,-0.1], alpha=10*[100], w=0.0005)\n",
    "    vol.tfh.plot(\"TF.png\",profile_field='f_HI')\n",
    "    \n",
    "\n",
    "xHI = []\n",
    "zs = []\n",
    "for istep, step in enumerate(range(5,1111,5)):\n",
    "\n",
    "    print('step ',step,'...')\n",
    "\n",
    "    #load sim output\n",
    "    f_HI, redshift, xHII = load_sim_step(step)\n",
    "    zs.append(redshift)\n",
    "    xHI.append( 1-0.01*xHII )\n",
    "\n",
    "    #build yt dataset\n",
    "    datadict = dict(f_HI = (f_HI,'dimensionless'))\n",
    "    bbox = numpy.array([[-50, 50], [-50, 50], [-50, 50]])\n",
    "\n",
    "    ds = yt.load_uniform_grid(datadict, f_HI.shape, length_unit=(1.0,\"Mpc\"), bbox=bbox, nprocs=16)\n",
    "\n",
    "\n",
    "    ###################\n",
    "    ## 3D rendering  ##\n",
    "    ###################\n",
    "\n",
    "    #create scene and get source\n",
    "    sc = yt.create_scene(ds,'f_HI')\n",
    "    vol = sc[0]\n",
    "\n",
    "    #create camera and set properties\n",
    "    cam = set_camera(sc)\n",
    "\n",
    "    #create the transfer function\n",
    "    tf = set_transfer_function(vol)\n",
    "\n",
    "    # Draw the domain boundary\n",
    "    #sc.annotate_axes(alpha=2)\n",
    "    sc.annotate_domain(ds, color=[1, 1, 1, 0.2])\n",
    "\n",
    "    #get rendered image\n",
    "    sc.save('temp.png',sigma_clip=3)\n",
    "    img = mpimg.imread('temp.png')\n",
    "    \n",
    "    # Set up plot\n",
    "    fig = plt.figure(figsize=(10.5,11), facecolor='black')\n",
    "    fig.patch.set_facecolor('k')\n",
    "    gs = GridSpec(10,40)\n",
    "    gs.update(hspace=0, wspace=0)\n",
    "    ax_img = fig.add_subplot( gs[0:9,0:39] )\n",
    "    ax_bar = fig.add_subplot( gs[0:9,  39] )\n",
    "    ax_spc = fig.add_subplot( gs[9  ,0:38] )\n",
    "\n",
    "    # Plot dumped image\n",
    "    ax_img.imshow(img)\n",
    "    ax_img.text(0.05*cam.resolution[0],0.05*cam.resolution[1],r\"$z=$%4.2f\"%redshift,color='w',fontsize=25)\n",
    "    ax_img.set_axis_off()\n",
    "    ax_img.set_xticks([])\n",
    "    ax_img.set_yticks([])\n",
    "\n",
    "\n",
    "    # Plot xHI\n",
    "    ax_spc.plot(zs, xHI, 'C1-')\n",
    "    ax_spc.tick_params(color='w', grid_color='w', labelcolor='w', labelsize=25)\n",
    "    ax_spc.yaxis.set_ticks_position('left')\n",
    "    ax_spc.xaxis.set_ticks_position('bottom')\n",
    "    ax_spc.spines['left'  ].set_color('w')\n",
    "    ax_spc.spines['right' ].set_visible(False)\n",
    "    ax_spc.spines['top'   ].set_visible(False)\n",
    "    ax_spc.spines['bottom'].set_color('w')\n",
    "    ax_spc.set_xlabel(r'z', size=25, color='w')\n",
    "    ax_spc.set_ylabel(r'$\\langle f_{HI} \\rangle$', size=25, color='w')\n",
    "    ax_spc.set_xlim([12, 3.5])\n",
    "    ax_spc.set_xticks([10, 8, 6, 4])\n",
    "    ax_spc.set_ylim([0,1])\n",
    "\n",
    "    # Custom colorbar\n",
    "    cb = customColorbar(fig, ax=None, cax=ax_bar, cmap=cmap_name, norm=plt.Normalize, vmin=0, vmax=1, orientation='vertical')\n",
    "    cb.set_ticks(numpy.linspace(0,1,6,endpoint=True)[::-1])\n",
    "    cb.ax.tick_params(color='k', grid_color='k', labelcolor='w', labelsize=25)\n",
    "    cb.set_ticklabels([\"0\",\"-1\",\"-2\",\"-3\",\"-4\",\"-5\"])\n",
    "    cb.set_label(r'$\\log( f_{HI} )$', size=25, color='w')\n",
    "\n",
    "    plt.tight_layout()\n",
    "    fig.savefig('bubbles%i.png'%istep,dpi=300,bbox='tight',bbox_inches='tight',facecolor=fig.get_facecolor(),transparent=True)"
   ]
  },
  {
   "cell_type": "code",
   "execution_count": 17,
   "metadata": {
    "Collapsed": "false"
   },
   "outputs": [],
   "source": [
    "import pynbody\n",
    "import numpy as np\n",
    "folder = \"gDisk1\"\n",
    "fname = str(format(0, \"03d\"))\n",
    "f = pynbody.load(\"/u/yali/\"+folder+\"/test/output/snapshot_\"+fname+\".hdf5\")\n",
    "#f.loadable_keys()"
   ]
  },
  {
   "cell_type": "code",
   "execution_count": 2,
   "metadata": {
    "Collapsed": "false"
   },
   "outputs": [
    {
     "data": {
      "text/plain": [
       "<matplotlib.collections.PathCollection at 0x2ba179435290>"
      ]
     },
     "execution_count": 2,
     "metadata": {},
     "output_type": "execute_result"
    },
    {
     "data": {
      "image/png": "[encoded data removed]",
      "text/plain": [
       "<Figure size 432x288 with 1 Axes>"
      ]
     },
     "metadata": {
      "needs_background": "light"
     },
     "output_type": "display_data"
    }
   ],
   "source": [
    "star = np.array([50, 50, 50])\n",
    "@pynbody.derived_array\n",
    "def rad(sim):\n",
    "    return ((sim['pos'][:,0]-star[0])**2+(sim['pos'][:,1]-star[1])**2)**0.5\n",
    "@pynbody.derived_array\n",
    "def height(sim):\n",
    "    return sim['pos'][:,2]-star[2]\n",
    "import matplotlib.pyplot as plt\n",
    "plt.scatter(f[\"rad\"], f[\"height\"])\n",
    "#plt.scatter(f[\"pos\"][:,0], f[\"pos\"][:,2])\n",
    "#plt.show()"
   ]
  },
  {
   "cell_type": "code",
   "execution_count": 31,
   "metadata": {
    "Collapsed": "false"
   },
   "outputs": [
    {
     "data": {
      "text/plain": [
       "SimArray([[ 1.1136652 ,  0.48285043,  0.30484295],\n",
       "          [ 0.75234085,  0.28715235,  0.34219566],\n",
       "          [ 0.8043574 ,  0.12260523,  0.3170422 ],\n",
       "          ...,\n",
       "          [ 0.4081461 , -0.49842185, -0.3699098 ],\n",
       "          [-0.07546467, -0.91175586, -0.4682892 ],\n",
       "          [ 0.07161776, -0.88873583, -0.19381721]], dtype=float32)"
      ]
     },
     "execution_count": 31,
     "metadata": {},
     "output_type": "execute_result"
    }
   ],
   "source": [
    "#plt.scatter(f[\"rad\"],f[\"phi\"])\n",
    "f[\"Acceleration\"]"
   ]
  },
  {
   "cell_type": "code",
   "execution_count": 22,
   "metadata": {
    "Collapsed": "false"
   },
   "outputs": [
    {
     "name": "stdout",
     "output_type": "stream",
     "text": [
      "9.591845850026225e-05 K m\n",
      "1.1910429723971884e-16 J m2 / s\n",
      "  Name   = Solar mass\n",
      "  Value  = 1.988409870698051e+30\n",
      "  Uncertainty  = 4.468805426856864e+25\n",
      "  Unit  = kg\n",
      "  Reference = IAU 2015 Resolution B 3 + CODATA 2018\n",
      "533240.1555663588\n"
     ]
    }
   ],
   "source": [
    "import astropy\n",
    "from astropy import constants as const\n",
    "print(0.2*(const.h*const.c/const.k_B/30))\n",
    "print(2*const.h*const.c**2)\n",
    "print(const.M_sun)\n",
    "UnitLength_in_cm = 1.496e13     \n",
    "UnitMass_in_g = 1.989e33   \n",
    "print(UnitMass_in_g/UnitLength_in_cm**2*0.06)"
   ]
  },
  {
   "cell_type": "code",
   "execution_count": 1,
   "metadata": {
    "Collapsed": "false"
   },
   "outputs": [
    {
     "name": "stdout",
     "output_type": "stream",
     "text": [
      "galpyWarning: interppotential_c extension module not loaded, because of error 'libopenblas.so.0: cannot open shared object file: No such file or directory' \n"
     ]
    },
    {
     "data": {
      "image/png": "[encoded data removed]",
      "text/plain": [
       "<Figure size 432x288 with 1 Axes>"
      ]
     },
     "metadata": {
      "needs_background": "light"
     },
     "output_type": "display_data"
    }
   ],
   "source": [
    "from galpy import potential \n",
    "from galpy.util import bovy_plot\n",
    "import numpy\n",
    "rp= potential.RazorThinExponentialDiskPotential(amp=10./(2.*numpy.pi),hr=1.)\n",
    "rs= numpy.linspace(0.1,7.,101)\n",
    "line_shell= bovy_plot.bovy_plot(rs,[rp.Rforce(r,0.) for r in rs],\n",
    "                                yrange=[-5.,1.],\n",
    "                                xlabel=r'$r$',\n",
    "                                ylabel=r'$g_r$')"
   ]
  },
  {
   "cell_type": "code",
   "execution_count": null,
   "metadata": {
    "Collapsed": "false"
   },
   "outputs": [],
   "source": []
  }
 ],
 "metadata": {
  "kernelspec": {
   "display_name": "Python 3",
   "language": "python",
   "name": "python3"
  },
  "language_info": {
   "codemirror_mode": {
    "name": "ipython",
    "version": 3
   },
   "file_extension": ".py",
   "mimetype": "text/x-python",
   "name": "python",
   "nbconvert_exporter": "python",
   "pygments_lexer": "ipython3",
   "version": "3.7.7"
  }
 },
 "nbformat": 4,
 "nbformat_minor": 4
}
